{
 "cells": [
  {
   "cell_type": "markdown",
   "metadata": {},
   "source": [
    "<img src=\"files/metrolinea.jpg\" />"
   ]
  },
  {
   "cell_type": "markdown",
   "metadata": {},
   "source": [
    "# METRO UIS - PROYECTO AUTÓMATAS Y LENGUAJES FORMALES \n",
    "\n",
    "**Autómatas y Lenguajes Formales**\n",
    "\n",
    "**Presentado por: Juan Diego Atehortua, Juan Camilo Cetina **\n",
    "\n",
    "**Escuela de Ingeniería de Sistemas e Informática** \n",
    "\n",
    "_Octubre de 2021_"
   ]
  },
  {
   "cell_type": "markdown",
   "metadata": {},
   "source": [
    "<div style=\"height:50px;\"></div>"
   ]
  },
  {
   "cell_type": "markdown",
   "metadata": {},
   "source": [
    "# Rutas del Metrolinea partiendo desde la UIS"
   ]
  },
  {
   "cell_type": "markdown",
   "metadata": {},
   "source": [
    "En este proyecto realizaremos un automata finito determinista (DFA) que nos acepte una cadena de caracteres que pasan por lo estados que en nuestro caso seran las estaciones o paradas del metrolinea iniciando desde la Universidad Industrial de Santander."
   ]
  },
  {
   "cell_type": "markdown",
   "metadata": {},
   "source": [
    "Usaremos como alfabeto <br> $\\Sigma = {\\{a,b,c,d,e,f,g,h,i,j,k,l,m,n,o,p,q,r,s,t,u,v,w,x,y,z,1a,2a,3a,4a,5a,6a,7a,8a,9a,1b,2b,3b,4b,5b,6b,7b\\}}$<br> \n",
    "Usaremos como lenguaje <br> $L = {\\{a(bcdefghi + jk(lmn + yz1234(91a + 8a)(2a3a + 9a(1b2b3b + 4b5b6b7b))) + w(x(lmn +  yz1234(91a + 8a)(2a3a + 9a(1b2b3b + 4b5b6b7b)) + stuv)))) + \n",
    "op(qr(x(lmn +  yz1234(91a + 8a)(2a3a + 9a(1b2b3b + 4b5b6b7b)))) + stuv) + 5a6a7a(91a + 8a)(2a3a + 9a(1b2b3b + 4b5b6b7b)))) + 4a(qr(x(lmn +  yz1234(91a + 8a)(2a3a + 9a(1b2b3b + 4b5b6b7b)))) +  stuv) + 5a6a7a(91a + 8a)(2a3a + 9a(1b2b3b + 4b5b6b7b))))\n",
    "+ 5a678(91a + 8a)(2a3a + 9a(1b2b3b + 4b5b6b7b)))\\}}$ "
   ]
  },
  {
   "cell_type": "markdown",
   "metadata": {},
   "source": [
    "- Estados con su respectiva referencia:<br>\n",
    "    *q0 : Universidad Industrial de Santander*<br>\n",
    "    *q1 : USTA*<br>\n",
    "    *q2 : Cra 15 - 4*<br>\n",
    "    *q3 : Casetas el Bosque*<br>\n",
    "    *q4 : Hospital Norte*<br>\n",
    "    *q5 : Tejar II*<br>\n",
    "    *q6 : Cra 10 - 21*<br>\n",
    "    *q7 : Balconcitos Kennedy*<br>\n",
    "    *q8 : Villa Alegria*<br>\n",
    "    *q9 : Cai Café  Madrid*<br>\n",
    "    *q10 : Quebradaseca*<br>\n",
    "    *q11 : Estacion San Mateo*<br>\n",
    "    *q12 : Cra 36 - 14*<br>\n",
    "    *q13 : Cll 39 - 3*<br>\n",
    "    *q14 : Cll 37 - 2occ*<br>\n",
    "    *q15 : Cra 26 - 13*<br>\n",
    "    *q16 : SENA*<br>\n",
    "    *q17 : Cra 30 -14*<br>\n",
    "    *q18 : Quebradaseca*<br>\n",
    "    *q19 : Hospital Universitario*<br>\n",
    "    *q20 : Estacion Chiflas*<br>\n",
    "    *q21 : Cra 33 - 47*<br>\n",
    "    *q22 : Estacion Clinica Bucaramanga*<br>\n",
    "    *q23 : Estacion La Rosita*<br>\n",
    "    *q24 : UTS*<br>\n",
    "    *q25 : Balconcitos*<br>\n",
    "    *q26 : Terminal de Transporte*<br>\n",
    "    *q27 : INEM*<br>\n",
    "    *q28 : Provenza*<br>\n",
    "    *q29 : Boulevard*<br>\n",
    "    *q30 : Parque Antonia Santos*<br>\n",
    "    *q31 : Conucos*<br>\n",
    "    *q32 : Payador*<br>\n",
    "    *q33 : C.C. Cañaveral*<br>\n",
    "    *q34 : Bombeo AMB*<br>\n",
    "    *q35 : Crr 9e - 29a*<br>\n",
    "    *q36 : Parque de los niños*<br>\n",
    "    *q37 : Parque Turbay*<br>\n",
    "    *q38 : Lagos II*<br>\n",
    "    *q39 : Colegio Vicente*<br>\n",
    "    *q40 : Sector 6-5*<br>\n",
    "    *q41 : Salud Total*<br>\n",
    "    *q42 : Estancia*<br>\n",
    "    *q43 : Menzulí*<br>\n",
    "    *q44 : Campo Alegre*<br>\n",
    "    *q45 : Piedecuesta*<br>\n",
    "    "
   ]
  },
  {
   "cell_type": "markdown",
   "metadata": {},
   "source": [
    "- Diagrama de transiciones:"
   ]
  },
  {
   "cell_type": "markdown",
   "metadata": {},
   "source": [
    "<img src=\"files/proyectoDiagrama.png\" />"
   ]
  },
  {
   "cell_type": "markdown",
   "metadata": {},
   "source": [
    "*El diagrama nos muestra como estado inicial \"q0\" que vendria siendo la Universidad Industrial de Santander y los estados siguientes a esta como estados finales o estacion final del recorrido según el usuario desea escoger*"
   ]
  },
  {
   "cell_type": "markdown",
   "metadata": {},
   "source": [
    "***ESPECIFICAMOS EL LENGUAJE DE LA SIGUIENTE MANERA : ***<br><br>\n",
    "***Q*** ={q0,q1,q2,q3,q4,q5,q6,q7,q8,q9,q10,q11,q12,q13,q14,q15,q16,q17,q18,q19,q20,q21,q22,q23,q24,q25,q26,q27,q28,q29,q30,q31,q32,q33,q34,q35,\n",
    "q36,q37,q38,q39,q40,q41,q42,q43,q44,q45}<br><br>\n",
    "***Σ*** ={ a,b,c,d,e,f,g,h,i,j,k,l,m,n,o,p,q,r,s,t,u,v,w,x,y,z,1a,2a,3a,4a,5a,6a,7a,8a,9a,1b,2b,3b,4b,5b,6b,7b}<br><br>\n",
    "***δ*** = funcion de transicion<br><br>\n",
    "δ(q0,a)=q1<br>\n",
    "δ(q0,o)=q15<br>\n",
    "δ(q0,4a)=q16<br>\n",
    "δ(q0,5)=q29<br>\n",
    "δ(q1,b)=q2<br>\n",
    "δ(q1,j)=q10<br>\n",
    "δ(q1,w)=q18<br>\n",
    "δ(q2,c)=q3<br>\n",
    "δ(q3,d)=q4<br>\n",
    "δ(q4,e)=q5<br>\n",
    "δ(q5,f)=q6<br>\n",
    "δ(q6,g)=q7<br>\n",
    "δ(q7,h)=q8<br>\n",
    "δ(q8,i)=q9<br>\n",
    "δ(q10,k)=q11<br>\n",
    "δ(q11,l)=q12<br>\n",
    "δ(q11,y)=q23<br>\n",
    "δ(q12,m)=q13<br>\n",
    "δ(q13,n)=q14<br>\n",
    "δ(q15,p)=q16<br>\n",
    "δ(q16,q)=q17<br>\n",
    "δ(q16,5a)=q36<br>\n",
    "δ(q17,r)=q18<br>\n",
    "δ(q18,x)=q11<br>\n",
    "δ(q18,s)=q19<br>\n",
    "δ(q19,t)=q20<br>\n",
    "δ(q20,u)=q21<br>\n",
    "δ(q21,v)=q22<br>\n",
    "δ(q23,z)=q24<br>\n",
    "δ(q24,1)=q25<br>\n",
    "δ(q25,2)=q26<br>\n",
    "δ(q26,3)=q27<br>\n",
    "δ(q27,4)=q28<br>\n",
    "δ(q28,9)=q32<br>\n",
    "δ(q28,8a)=q33<br>\n",
    "δ(29,6)=q30<br>\n",
    "δ(q30,7)=q31<br>\n",
    "δ(q31,8)=q28<br>\n",
    "δ(q32,1a)=q33<br>\n",
    "δ(q33,2a)=q34<br>\n",
    "δ(q33,9a)=q38<br>\n",
    "δ(q34,3a)=q35<br>\n",
    "δ(q36,6a)=q37<br>\n",
    "δ(q37,7a)=q28<br>\n",
    "δ(q38,1b)=q39<br>\n",
    "δ(q38,4b)=q42<br>\n",
    "δ(q39,2b)=q40<br>\n",
    "δ(q40,3b)=q41<br>\n",
    "δ(q42,5b)=q43<br>\n",
    "δ(q43,6b)=q44<br>\n",
    "δ(q44,7b)=q45<br>"
   ]
  },
  {
   "cell_type": "markdown",
   "metadata": {},
   "source": [
    "\n",
    "|PALABRAS ACEPTADAS $\\hspace{1.0cm}$ |  PALABRAS RECHAZADAS $\\hspace{1.0cm}$|\n",
    "|------------------------------------|--------------------------------------|\n",
    "|$56789   \\hspace{0.1cm}$           |$nabcde\\hspace{0.1cm}       $           |\n",
    "|$abcdefghi         $                    |$3wstu\\hspace{0.1cm}     $           |\n",
    "|$awxyz       $                      |$3btuv1\\hspace{0.1cm} $                   |\n",
    "|$opqst   $                        |$123456\\hspace{0.1cm} $              |\n"
   ]
  },
  {
   "cell_type": "code",
   "execution_count": 19,
   "metadata": {
    "collapsed": false
   },
   "outputs": [],
   "source": [
    "from automatalib.fa.dfa import DFA\n",
    "d = DFA(\n",
    "    states={'q0','q1','q2','q3','q4','q5','q6','q7','q8','q9','q10','q11','q12','q13','q14','q15','q16','q17','q18','q19','q20','q21','q22','q23','q24','q25','q26','q27','q28','q29','q30',\n",
    "'q31','q32','q33','q34','q35','q36','q37','q38','q39','q40','q41','q42','q43','q44','q45'},\n",
    "    input_symbols={'a','b','c','d','e','f','g','h','i','j','k','l','m','n','o','p','q','r','s','t','u','v','w','x','y','z','A','B','C','D','E','F','G','H','I','J','K','L',\n",
    "'M','N','O','P','1','2','3','4','5','6','7','8','9'},\n",
    "    transitions={\n",
    "        'q0': {'a':'q1','o':'q15','D':'q16','5':'q29'},\n",
    "        'q1': {'b':'q2','j':'q10','w':'q18'},\n",
    "        'q2': {'c':'q3'},\n",
    "        'q3': {'d':'q4'},\n",
    "        'q4': {'e':'q5'},\n",
    "        'q5': {'f':'q6'},\n",
    "        'q6': {'g':'q7'},\n",
    "        'q7': {'h':'q8'},\n",
    "        'q8': {'i':'q9'},\n",
    "        'q9': {'i':'q9'},\n",
    "        'q10': {'k':'q11'},\n",
    "        'q11': {'l':'q12','y':'q23'},\n",
    "        'q12': {'m':'q13'},\n",
    "        'q13': {'n':'q14'},\n",
    "        'q14': {'n':'q14'},\n",
    "        'q15': {'p':'q16'},\n",
    "        'q16': {'q':'q17','E':'q36'},\n",
    "        'q17': {'r':'q18'},\n",
    "        'q18': {'x':'q11','s':'q19'},\n",
    "        'q19': {'t':'q20'},\n",
    "        'q20': {'u':'q21'},\n",
    "        'q21': {'v':'q22'},\n",
    "        'q22': {'v':'q22'},\n",
    "        'q23': {'z':'q24'},\n",
    "        'q24': {'1':'q25'},\n",
    "        'q25': {'2':'q26'},\n",
    "        'q26': {'3':'q27'},\n",
    "        'q27': {'4':'q28'},\n",
    "        'q28': {'9':'q32','H':'q33'},\n",
    "        'q29': {'6':'q30'},\n",
    "        'q30': {'7':'q31'},\n",
    "        'q31': {'8':'q28'},\n",
    "        'q32': {'A':'q33'},\n",
    "        'q33': {'B':'q34','I':'q38'},\n",
    "        'q34': {'C':'q35'},\n",
    "        'q35': {'C':'q35'},\n",
    "        'q36': {'F':'q37'},\n",
    "        'q37': {'G':'q28'},\n",
    "        'q38': {'J':'q39','M':'q42'},\n",
    "        'q39': {'K':'q40'},\n",
    "        'q40': {'L':'q41'},\n",
    "        'q41': {'L':'q41'},\n",
    "        'q42': {'N':'q43'},\n",
    "        'q43': {'O':'q44'},\n",
    "        'q44': {'P':'q45'},\n",
    "        'q45': {'P':'q45'}\n",
    "    },\n",
    "    initial_state='q0',\n",
    "    final_states={'q1','q2','q3','q4','q5','q6','q7','q8','q9','q10','q11','q12','q13','q14','q15','q16','q17','q18','q19','q20','q21','q22','q23','q24','q25','q26','q27','q28','q29','q30',\n",
    "    'q31','q32','q33','q34','q35','q36','q37','q38','q39','q40','q41','q42','q43','q44','q45'}\n",
    ")"
   ]
  },
  {
   "cell_type": "markdown",
   "metadata": {},
   "source": [
    "***RETORNA EL ESTADO FINAL SI LA RUTA ES CORREECTA : ***\n"
   ]
  },
  {
   "cell_type": "code",
   "execution_count": 38,
   "metadata": {
    "collapsed": false
   },
   "outputs": [
    {
     "name": "stdout",
     "output_type": "stream",
     "text": [
      "q45\n"
     ]
    }
   ],
   "source": [
    "print(d.validate_input('5678HIMNOP'))"
   ]
  },
  {
   "cell_type": "markdown",
   "metadata": {},
   "source": [
    "***RETORNA LA SECUENCIA DE ESTADOS O ESTACIONES QUE PARA LLEGAR A SU DESTINO FINAL : ***\n"
   ]
  },
  {
   "cell_type": "code",
   "execution_count": 39,
   "metadata": {
    "collapsed": false
   },
   "outputs": [
    {
     "data": {
      "text/plain": [
       "['q0', 'q29', 'q30', 'q31', 'q28', 'q33', 'q38', 'q42', 'q43', 'q44', 'q45']"
      ]
     },
     "execution_count": 39,
     "metadata": {},
     "output_type": "execute_result"
    }
   ],
   "source": [
    "list(d.validate_input('5678HIMNOP', step=True))"
   ]
  },
  {
   "cell_type": "code",
   "execution_count": 41,
   "metadata": {
    "collapsed": false
   },
   "outputs": [],
   "source": [
    "!chmod 777 empaquetar.sh"
   ]
  }
 ],
 "metadata": {
  "kernelspec": {
   "display_name": "Python 3",
   "language": "python",
   "name": "python3"
  },
  "language_info": {
   "codemirror_mode": {
    "name": "ipython",
    "version": 3
   },
   "file_extension": ".py",
   "mimetype": "text/x-python",
   "name": "python",
   "nbconvert_exporter": "python",
   "pygments_lexer": "ipython3",
   "version": "3.6.2"
  }
 },
 "nbformat": 4,
 "nbformat_minor": 1
}
